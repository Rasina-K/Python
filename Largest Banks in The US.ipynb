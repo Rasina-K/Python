{
 "cells": [
  {
   "cell_type": "code",
   "execution_count": 1,
   "metadata": {},
   "outputs": [],
   "source": [
    "import requests\n",
    "from bs4 import BeautifulSoup\n",
    "import pandas as pd"
   ]
  },
  {
   "cell_type": "code",
   "execution_count": 2,
   "metadata": {},
   "outputs": [],
   "source": [
    "url = \"https://en.wikipedia.org/wiki/List_of_largest_banks_in_the_United_States\"\n",
    "response = requests.get(url)\n",
    "soup = BeautifulSoup(response.content, \"html.parser\")"
   ]
  },
  {
   "cell_type": "code",
   "execution_count": 3,
   "metadata": {},
   "outputs": [],
   "source": [
    "table = soup.find(\"table\", {\"class\": \"wikitable sortable\"})\n",
    "rows = table.find_all(\"tr\")"
   ]
  },
  {
   "cell_type": "code",
   "execution_count": 4,
   "metadata": {},
   "outputs": [],
   "source": [
    "header = [th.text.strip() for th in rows[0].find_all(\"th\")]\n",
    "data = [[td.text.strip() for td in row.find_all(\"td\")] for row in rows[1:]]"
   ]
  },
  {
   "cell_type": "code",
   "execution_count": 5,
   "metadata": {},
   "outputs": [],
   "source": [
    "df = pd.DataFrame(data, columns=header)"
   ]
  },
  {
   "cell_type": "code",
   "execution_count": 6,
   "metadata": {},
   "outputs": [],
   "source": [
    "df.to_csv(\"largest_banks.csv\", index=False)"
   ]
  },
  {
   "cell_type": "code",
   "execution_count": 9,
   "metadata": {},
   "outputs": [
    {
     "data": {
      "text/html": [
       "<div>\n",
       "<style scoped>\n",
       "    .dataframe tbody tr th:only-of-type {\n",
       "        vertical-align: middle;\n",
       "    }\n",
       "\n",
       "    .dataframe tbody tr th {\n",
       "        vertical-align: top;\n",
       "    }\n",
       "\n",
       "    .dataframe thead th {\n",
       "        text-align: right;\n",
       "    }\n",
       "</style>\n",
       "<table border=\"1\" class=\"dataframe\">\n",
       "  <thead>\n",
       "    <tr style=\"text-align: right;\">\n",
       "      <th></th>\n",
       "      <th>Rank</th>\n",
       "      <th>Bank name</th>\n",
       "      <th>Headquarters location</th>\n",
       "      <th>Total assets(billions of US$)[3]</th>\n",
       "      <th>CET1capitalrequirement(2022)[4][5]</th>\n",
       "      <th>Market capitalization  (billions of US$)[6]</th>\n",
       "    </tr>\n",
       "  </thead>\n",
       "  <tbody>\n",
       "    <tr>\n",
       "      <th>0</th>\n",
       "      <td>1</td>\n",
       "      <td>JPMorgan Chase</td>\n",
       "      <td>New York City</td>\n",
       "      <td>$3,868</td>\n",
       "      <td>12.0</td>\n",
       "      <td>$430.973</td>\n",
       "    </tr>\n",
       "    <tr>\n",
       "      <th>1</th>\n",
       "      <td>2</td>\n",
       "      <td>Bank of America</td>\n",
       "      <td>Charlotte</td>\n",
       "      <td>$3,123</td>\n",
       "      <td>10.4</td>\n",
       "      <td>$252.05</td>\n",
       "    </tr>\n",
       "    <tr>\n",
       "      <th>2</th>\n",
       "      <td>3</td>\n",
       "      <td>Citigroup</td>\n",
       "      <td>New York City</td>\n",
       "      <td>$2,423</td>\n",
       "      <td>11.5</td>\n",
       "      <td>$91.89</td>\n",
       "    </tr>\n",
       "    <tr>\n",
       "      <th>3</th>\n",
       "      <td>4</td>\n",
       "      <td>Wells Fargo</td>\n",
       "      <td>San Francisco</td>\n",
       "      <td>$1,876</td>\n",
       "      <td>9.2</td>\n",
       "      <td>$167.58</td>\n",
       "    </tr>\n",
       "    <tr>\n",
       "      <th>4</th>\n",
       "      <td>5</td>\n",
       "      <td>Goldman Sachs</td>\n",
       "      <td>New York City</td>\n",
       "      <td>$1,571</td>\n",
       "      <td>13.3</td>\n",
       "      <td>$118.10</td>\n",
       "    </tr>\n",
       "  </tbody>\n",
       "</table>\n",
       "</div>"
      ],
      "text/plain": [
       "  Rank        Bank name Headquarters location  \\\n",
       "0    1   JPMorgan Chase         New York City   \n",
       "1    2  Bank of America             Charlotte   \n",
       "2    3        Citigroup         New York City   \n",
       "3    4      Wells Fargo         San Francisco   \n",
       "4    5    Goldman Sachs         New York City   \n",
       "\n",
       "  Total assets(billions of US$)[3] CET1capitalrequirement(2022)[4][5]  \\\n",
       "0                           $3,868                               12.0   \n",
       "1                           $3,123                               10.4   \n",
       "2                           $2,423                               11.5   \n",
       "3                           $1,876                                9.2   \n",
       "4                           $1,571                               13.3   \n",
       "\n",
       "  Market capitalization  (billions of US$)[6]  \n",
       "0                                    $430.973  \n",
       "1                                     $252.05  \n",
       "2                                      $91.89  \n",
       "3                                     $167.58  \n",
       "4                                     $118.10  "
      ]
     },
     "execution_count": 9,
     "metadata": {},
     "output_type": "execute_result"
    }
   ],
   "source": [
    "df.head()"
   ]
  },
  {
   "cell_type": "code",
   "execution_count": null,
   "metadata": {},
   "outputs": [],
   "source": []
  }
 ],
 "metadata": {
  "kernelspec": {
   "display_name": "Python 3 (ipykernel)",
   "language": "python",
   "name": "python3"
  },
  "language_info": {
   "codemirror_mode": {
    "name": "ipython",
    "version": 3
   },
   "file_extension": ".py",
   "mimetype": "text/x-python",
   "name": "python",
   "nbconvert_exporter": "python",
   "pygments_lexer": "ipython3",
   "version": "3.8.12"
  }
 },
 "nbformat": 4,
 "nbformat_minor": 2
}
